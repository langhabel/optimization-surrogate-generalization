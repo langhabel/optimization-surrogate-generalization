{
 "cells": [
  {
   "cell_type": "markdown",
   "metadata": {},
   "source": [
    "# Demo Usage of the Generalizer (GENERALization-optimiZER)\n",
    "\n",
    "The Generalizer optimizes faster by maintaining a n+1 dimensional surrogate model which incorporates the samples of already solved similar problems with shared features. The additional axis is not vital to solve each optimization problem but connects similar problems from the same class. We thus speak from generalizing between optimization problems. We call the n dimensional problems (hyper)slices of the n+1 dimensional surrogate space (intuition: 1D slices of a 2D problem space).\n",
    "\n",
    "As example function to be optimized we use the Six Hump Camel function. We evaluate slices along the first dimension, the second dimension forms the additional axis which connects related problems in this class."
   ]
  },
  {
   "cell_type": "code",
   "execution_count": 1,
   "metadata": {
    "collapsed": false
   },
   "outputs": [],
   "source": [
    "%reload_ext autoreload\n",
    "%autoreload 2\n",
    "import numpy as np\n",
    "import sys\n",
    "from generalizer import Generalizer\n",
    "import demo_visualization\n",
    "import utils\n",
    "%matplotlib inline"
   ]
  },
  {
   "cell_type": "markdown",
   "metadata": {},
   "source": [
    "*Exemplary convergence criterion:*\n",
    "\n",
    "The minimum in y direction was not changed significantly in the last rounds as well as the x position did not change more than a tolerance."
   ]
  },
  {
   "cell_type": "code",
   "execution_count": 2,
   "metadata": {
    "collapsed": false
   },
   "outputs": [],
   "source": [
    "# variables needed to track convergence\n",
    "y_min = sys.float_info.max\n",
    "slice_minimas = np.ones(3) * 1e20\n",
    "last_x = np.array([[-1.0, 0.0],[0.0, -1.0]])\n",
    "\n",
    "\n",
    "def converged(slice_minimas, y_min, last_x):\n",
    "    limit = 3\n",
    "    tol = 0.02\n",
    "    y_conv = 0 <= slice_minimas[-limit]/y_min - 1 < tol\n",
    "    x_conv = np.allclose(last_x[-1], last_x[-2], atol=tol)\n",
    "        \n",
    "    return y_conv and x_conv"
   ]
  },
  {
   "cell_type": "markdown",
   "metadata": {},
   "source": [
    "The Generalizer is initialized with data assumed to belong to previous related experiments. Based upon this data a new slice of the surrogate model is evaluated.\n",
    "\n",
    "In the following the setup is described. Much goes into setting up and scaling the artificial example samples."
   ]
  },
  {
   "cell_type": "code",
   "execution_count": 3,
   "metadata": {
    "collapsed": false,
    "scrolled": true
   },
   "outputs": [
    {
     "name": "stdout",
     "output_type": "stream",
     "text": [
      "('>>>>>> Randomly initialize with slices: ', array([ 0.38,  0.27,  0.61,  0.07,  0.97]))\n"
     ]
    }
   ],
   "source": [
    "# function space\n",
    "dim = np.array([[-2, -1], [2, 1]])\n",
    "\n",
    "# quantization in each dimension\n",
    "grid_size = 101\n",
    "\n",
    "# for demo purposes we initialized some slices already (in deployment that will be done with existing data)\n",
    "# the chosen slices must lie within the grid spacing and the final samples be transformed to range [0,1]\n",
    "initial_slices_single = np.random.choice(np.linspace(dim[0][1], dim[1][1], grid_size), 5, replace=False)\n",
    "initial_slices = np.repeat(initial_slices_single, 10)\n",
    "initial_spacing = np.tile(np.linspace(dim[0][0], dim[1][0], 10), 5)\n",
    "initial_samples_X = np.vstack((initial_spacing, initial_slices)).T\n",
    "initial_samples_Y = utils.six_hump_camel(initial_samples_X)\n",
    "\n",
    "# scaling to [0,1]\n",
    "initial_samples_X = utils.scale_01(initial_samples_X, dim)\n",
    "initial_slices_single = (initial_slices_single+1.0) / 2.0\n",
    "\n",
    "\n",
    "\n",
    "# instantiate generalizer with surrogate\n",
    "print('>>>>>> Randomly initialize with slices: ', initial_slices_single)\n",
    "\n",
    "generalizer = Generalizer(dim,\n",
    "                          initial_samples_X=initial_samples_X,\n",
    "                          initial_samples_Y=initial_samples_Y,\n",
    "                          grid_size=grid_size)"
   ]
  },
  {
   "cell_type": "markdown",
   "metadata": {},
   "source": [
    "In the main loop new sampling locations are seeked for and then evaluated. It is the users task to acquire the required samples by experiment or simulation. We simulate this by evaluating the provided Six Hump Camel function."
   ]
  },
  {
   "cell_type": "code",
   "execution_count": 4,
   "metadata": {
    "collapsed": false,
    "scrolled": false
   },
   "outputs": [
    {
     "name": "stdout",
     "output_type": "stream",
     "text": [
      "('>>>>>> Optimize slice: ', 0.48999999999999999)\n",
      "('>>>>>>   Sample ', 0)\n",
      "Neurotic Natalie tamed - Training error=0.001264079\n",
      "Neurotic Natalie tamed - Training error=0.021809166\n",
      "Neurotic Natalie tamed - Training error=0.020493859\n",
      "Neurotic Natalie tamed - Training error=0.008734651\n",
      "Neurotic Natalie tamed - Training error=0.019320082\n",
      "Neurotic Natalie tamed - Training error=0.002705889\n",
      "Neurotic Natalie tamed - Training error=0.013732753\n",
      "Neurotic Natalie tamed - Training error=0.002898110\n",
      "Neurotic Natalie tamed - Training error=0.013927061\n",
      "Neurotic Natalie tamed - Training error=0.009431352\n",
      "Neurotic Natalie tamed - Training error=0.021760797\n",
      "Neurotic Natalie tamed - Training error=0.004050029\n",
      "Neurotic Natalie tamed - Training error=0.025245419\n",
      "Neurotic Natalie tamed - Training error=0.016075065\n",
      "Neurotic Natalie tamed - Training error=0.019802270\n",
      "Neurotic Natalie tamed - Training error=0.007972329\n",
      "Neurotic Natalie tamed - Training error=0.009558741\n",
      "Neurotic Natalie tamed - Training error=0.021441603\n",
      "Neurotic Natalie tamed - Training error=0.017867967\n",
      "Neurotic Natalie tamed - Training error=0.012192640\n",
      "Neurotic Natalie tamed - Training error=0.007766202\n"
     ]
    },
    {
     "ename": "ValueError",
     "evalue": "Unknown projection '3d'",
     "output_type": "error",
     "traceback": [
      "\u001b[0;31m---------------------------------------------------------------------------\u001b[0m",
      "\u001b[0;31mValueError\u001b[0m                                Traceback (most recent call last)",
      "\u001b[0;32m<ipython-input-4-e539bb774523>\u001b[0m in \u001b[0;36m<module>\u001b[0;34m()\u001b[0m\n\u001b[1;32m     25\u001b[0m     \u001b[0;31m# visualize results\u001b[0m\u001b[0;34m\u001b[0m\u001b[0;34m\u001b[0m\u001b[0m\n\u001b[1;32m     26\u001b[0m     demo_visualization.plot(proof, current_slice, grid_size, dim, slice_samples_X, slice_samples_Y, \n\u001b[0;32m---> 27\u001b[0;31m                             initial_slices_single, initial_samples_X, initial_samples_Y)\n\u001b[0m\u001b[1;32m     28\u001b[0m \u001b[0;34m\u001b[0m\u001b[0m\n\u001b[1;32m     29\u001b[0m     \u001b[0mi\u001b[0m \u001b[0;34m+=\u001b[0m \u001b[0;36m1\u001b[0m\u001b[0;34m\u001b[0m\u001b[0m\n",
      "\u001b[0;32m/home/jannik/Desktop/src/demo_visualization.pyc\u001b[0m in \u001b[0;36mplot\u001b[0;34m(proof, slice_, grid_size, dim_limits, slice_samples_X, slice_samples_Y, past_slices, samples_X, samples_Y)\u001b[0m\n\u001b[1;32m     42\u001b[0m \u001b[0;34m\u001b[0m\u001b[0m\n\u001b[1;32m     43\u001b[0m     \u001b[0;31m# True function\u001b[0m\u001b[0;34m\u001b[0m\u001b[0;34m\u001b[0m\u001b[0m\n\u001b[0;32m---> 44\u001b[0;31m     \u001b[0max\u001b[0m \u001b[0;34m=\u001b[0m \u001b[0mfig\u001b[0m\u001b[0;34m.\u001b[0m\u001b[0madd_subplot\u001b[0m\u001b[0;34m(\u001b[0m\u001b[0mgs\u001b[0m\u001b[0;34m[\u001b[0m\u001b[0;36m0\u001b[0m\u001b[0;34m]\u001b[0m\u001b[0;34m,\u001b[0m \u001b[0mprojection\u001b[0m\u001b[0;34m=\u001b[0m\u001b[0;34m'3d'\u001b[0m\u001b[0;34m)\u001b[0m\u001b[0;34m\u001b[0m\u001b[0m\n\u001b[0m\u001b[1;32m     45\u001b[0m     \u001b[0max\u001b[0m\u001b[0;34m.\u001b[0m\u001b[0mplot\u001b[0m\u001b[0;34m(\u001b[0m\u001b[0mgrid_1D\u001b[0m\u001b[0;34m,\u001b[0m \u001b[0mnp\u001b[0m\u001b[0;34m.\u001b[0m\u001b[0mones\u001b[0m\u001b[0;34m(\u001b[0m\u001b[0mgrid_size\u001b[0m\u001b[0;34m)\u001b[0m\u001b[0;34m*\u001b[0m\u001b[0mslice_\u001b[0m\u001b[0;34m,\u001b[0m \u001b[0mtrue_1D\u001b[0m\u001b[0;34m,\u001b[0m \u001b[0;34m'b-'\u001b[0m\u001b[0;34m,\u001b[0m \u001b[0mlabel\u001b[0m\u001b[0;34m=\u001b[0m\u001b[0;34m'Current Slice'\u001b[0m\u001b[0;34m,\u001b[0m \u001b[0mlw\u001b[0m\u001b[0;34m=\u001b[0m\u001b[0;36m2\u001b[0m\u001b[0;34m)\u001b[0m\u001b[0;34m\u001b[0m\u001b[0m\n\u001b[1;32m     46\u001b[0m     \u001b[0;32mfor\u001b[0m \u001b[0mi\u001b[0m \u001b[0;32min\u001b[0m \u001b[0mpast_slices\u001b[0m\u001b[0;34m:\u001b[0m\u001b[0;34m\u001b[0m\u001b[0m\n",
      "\u001b[0;32m/home/jannik/anaconda3/envs/py2_env/lib/python2.7/site-packages/matplotlib/figure.pyc\u001b[0m in \u001b[0;36madd_subplot\u001b[0;34m(self, *args, **kwargs)\u001b[0m\n\u001b[1;32m    985\u001b[0m         \u001b[0;32melse\u001b[0m\u001b[0;34m:\u001b[0m\u001b[0;34m\u001b[0m\u001b[0m\n\u001b[1;32m    986\u001b[0m             projection_class, kwargs, key = process_projection_requirements(\n\u001b[0;32m--> 987\u001b[0;31m                 self, *args, **kwargs)\n\u001b[0m\u001b[1;32m    988\u001b[0m \u001b[0;34m\u001b[0m\u001b[0m\n\u001b[1;32m    989\u001b[0m             \u001b[0;31m# try to find the axes with this key in the stack\u001b[0m\u001b[0;34m\u001b[0m\u001b[0;34m\u001b[0m\u001b[0m\n",
      "\u001b[0;32m/home/jannik/anaconda3/envs/py2_env/lib/python2.7/site-packages/matplotlib/projections/__init__.pyc\u001b[0m in \u001b[0;36mprocess_projection_requirements\u001b[0;34m(figure, *args, **kwargs)\u001b[0m\n\u001b[1;32m     96\u001b[0m \u001b[0;34m\u001b[0m\u001b[0m\n\u001b[1;32m     97\u001b[0m     \u001b[0;32mif\u001b[0m \u001b[0misinstance\u001b[0m\u001b[0;34m(\u001b[0m\u001b[0mprojection\u001b[0m\u001b[0;34m,\u001b[0m \u001b[0msix\u001b[0m\u001b[0;34m.\u001b[0m\u001b[0mstring_types\u001b[0m\u001b[0;34m)\u001b[0m \u001b[0;32mor\u001b[0m \u001b[0mprojection\u001b[0m \u001b[0;32mis\u001b[0m \u001b[0mNone\u001b[0m\u001b[0;34m:\u001b[0m\u001b[0;34m\u001b[0m\u001b[0m\n\u001b[0;32m---> 98\u001b[0;31m         \u001b[0mprojection_class\u001b[0m \u001b[0;34m=\u001b[0m \u001b[0mget_projection_class\u001b[0m\u001b[0;34m(\u001b[0m\u001b[0mprojection\u001b[0m\u001b[0;34m)\u001b[0m\u001b[0;34m\u001b[0m\u001b[0m\n\u001b[0m\u001b[1;32m     99\u001b[0m     \u001b[0;32melif\u001b[0m \u001b[0mhasattr\u001b[0m\u001b[0;34m(\u001b[0m\u001b[0mprojection\u001b[0m\u001b[0;34m,\u001b[0m \u001b[0;34m'_as_mpl_axes'\u001b[0m\u001b[0;34m)\u001b[0m\u001b[0;34m:\u001b[0m\u001b[0;34m\u001b[0m\u001b[0m\n\u001b[1;32m    100\u001b[0m         \u001b[0mprojection_class\u001b[0m\u001b[0;34m,\u001b[0m \u001b[0mextra_kwargs\u001b[0m \u001b[0;34m=\u001b[0m \u001b[0mprojection\u001b[0m\u001b[0;34m.\u001b[0m\u001b[0m_as_mpl_axes\u001b[0m\u001b[0;34m(\u001b[0m\u001b[0;34m)\u001b[0m\u001b[0;34m\u001b[0m\u001b[0m\n",
      "\u001b[0;32m/home/jannik/anaconda3/envs/py2_env/lib/python2.7/site-packages/matplotlib/projections/__init__.pyc\u001b[0m in \u001b[0;36mget_projection_class\u001b[0;34m(projection)\u001b[0m\n\u001b[1;32m     65\u001b[0m         \u001b[0;32mreturn\u001b[0m \u001b[0mprojection_registry\u001b[0m\u001b[0;34m.\u001b[0m\u001b[0mget_projection_class\u001b[0m\u001b[0;34m(\u001b[0m\u001b[0mprojection\u001b[0m\u001b[0;34m)\u001b[0m\u001b[0;34m\u001b[0m\u001b[0m\n\u001b[1;32m     66\u001b[0m     \u001b[0;32mexcept\u001b[0m \u001b[0mKeyError\u001b[0m\u001b[0;34m:\u001b[0m\u001b[0;34m\u001b[0m\u001b[0m\n\u001b[0;32m---> 67\u001b[0;31m         \u001b[0;32mraise\u001b[0m \u001b[0mValueError\u001b[0m\u001b[0;34m(\u001b[0m\u001b[0;34m\"Unknown projection '%s'\"\u001b[0m \u001b[0;34m%\u001b[0m \u001b[0mprojection\u001b[0m\u001b[0;34m)\u001b[0m\u001b[0;34m\u001b[0m\u001b[0m\n\u001b[0m\u001b[1;32m     68\u001b[0m \u001b[0;34m\u001b[0m\u001b[0m\n\u001b[1;32m     69\u001b[0m \u001b[0;34m\u001b[0m\u001b[0m\n",
      "\u001b[0;31mValueError\u001b[0m: Unknown projection '3d'"
     ]
    },
    {
     "data": {
      "text/plain": [
       "<matplotlib.figure.Figure at 0x7fa1fea66ad0>"
      ]
     },
     "metadata": {},
     "output_type": "display_data"
    }
   ],
   "source": [
    "# loop to optimize current slice\n",
    "current_slice = np.random.choice(np.linspace(0, 1, grid_size))\n",
    "print('>>>>>> Optimize slice: ', current_slice)\n",
    "i = 0\n",
    "\n",
    "while not converged(slice_minimas, y_min, last_x):\n",
    "    print('>>>>>>   Sample ', i)\n",
    "\n",
    "    # get next evaluation location\n",
    "    new_x, proof = generalizer.get_next_sampling_location(current_slice)\n",
    "\n",
    "    # evaluate six hump to get new sample\n",
    "    original_scale_new_x = utils.scale_restore(np.matrix(new_x), dim)\n",
    "    new_y = utils.six_hump_camel(np.array(original_scale_new_x).squeeze())\n",
    "\n",
    "    # incorporate into surrogate model\n",
    "    generalizer.incorporate_new_sample(new_x, new_y)\n",
    "\n",
    "    # update convergence variables\n",
    "    slice_samples_X, slice_samples_Y = generalizer.get_samples_for(current_slice)\n",
    "    y_min = np.min(slice_samples_Y)\n",
    "    slice_minimas = np.append(slice_minimas, y_min)\n",
    "    last_x = np.vstack((last_x, new_x))\n",
    "\n",
    "    # visualize results\n",
    "    demo_visualization.plot(proof, current_slice, grid_size, dim, slice_samples_X, slice_samples_Y, \n",
    "                            initial_slices_single, initial_samples_X, initial_samples_Y)\n",
    "\n",
    "    i += 1\n",
    "\n",
    "\n",
    "print('>>>>>> FINISHED! Samples until convergence: ', i)\n",
    "print('>>>>>> Minimum %f at position '%y_min, last_x[-1])"
   ]
  },
  {
   "cell_type": "code",
   "execution_count": null,
   "metadata": {
    "collapsed": true
   },
   "outputs": [],
   "source": []
  }
 ],
 "metadata": {
  "anaconda-cloud": {},
  "kernelspec": {
   "display_name": "Python [conda env:py2_env]",
   "language": "python",
   "name": "conda-env-py2_env-py"
  },
  "language_info": {
   "codemirror_mode": {
    "name": "ipython",
    "version": 2
   },
   "file_extension": ".py",
   "mimetype": "text/x-python",
   "name": "python",
   "nbconvert_exporter": "python",
   "pygments_lexer": "ipython2",
   "version": "2.7.12"
  }
 },
 "nbformat": 4,
 "nbformat_minor": 0
}
